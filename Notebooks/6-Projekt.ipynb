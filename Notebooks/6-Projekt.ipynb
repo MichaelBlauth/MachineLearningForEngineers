{
 "cells": [
  {
   "cell_type": "markdown",
   "id": "22fba655",
   "metadata": {},
   "source": [
    "# Projekt\n",
    "\n",
    "## Zielsetzung und Datenverständnis\n",
    "\n",
    "In diesem Projekt wendet ihr selbst alle Konzepte aus den vorherigen Notebooks auf einen echten Datensatz an. Ziel ist es, mithilfe der bisher erlernten Methoden ein maschinelles Lernmodell zu entwickeln, das auf Basis physikalischer und materialtechnischer Eigenschaften vorhersagen kann, ob ein bestimmtes Ereignis eintritt. Darüber hinaus werden wir nicht nur vorhersagen können, **ob** ein Ereignis eintritt, sondern auch **wann** dies voraussichtlich geschieht.\n",
    "Dabei werdet ihr vom Preprocessing, über Visualisierung und Feature-Engineering bis hin zur Evaluation eures fertigen Modells alles bisher Gelerntes anwenden und vertiefen.\n",
    "\n",
    "### Anmerkungen zur Bewertung/Benotung\n",
    "\n",
    "TODO\n",
    "\n",
    "### Der Kontext\n",
    "\n",
    "Steckverbindungen sind essenzielle Bauteile in vielen technischen Systemen – von der Automobilindustrie bis zur Elektronikfertigung. Mit der Zeit und unter Belastung (z. B. durch Vibration oder Temperaturwechsel) kann der elektrische Kontaktwiderstand steigen. Überschreitet er einen bestimmten Schwellenwert (meist 300 mΩ), gilt die Verbindung typischerweise als defekt.\n",
    "\n",
    "Der vorliegende Datensatz enthält Informationen zu mehreren Steckverbindungen, die einem Experiment unterzogen wurden, in dem Steckvorgänge zyklisch simuliert wurden. Darunter findet ihr:\n",
    "\n",
    "* **Materialeigenschaften** wie die Art der Beschichtung (Silber, Zinn) oder das Vorhandensein einer Zwischenschicht (Nickel),\n",
    "* **Prozessparameter** wie Normalkraft, Frequenz und Bewegungshub,\n",
    "* sowie die **Zyklenzahl**, bei der ein bestimmter Widerstandsschwellenwert (z. B. 1 mΩ, 20 mΩ, …, 300 mΩ) erstmals überschritten wurde – falls überhaupt.\n",
    "\n",
    "Im Experiment wurden die Steckverbindungen unter bekannter Normalkraft, Frequenz und Hub zyklisch der Steckbelastung (Einstecken und Ausstecken) unterzogen. Die Zyklenanzahl war vorher fest definiert und richtete sich nach der durchschnittlich zu erwartenden Zahl an Steckvorgängen, die im Leben einer Steckverbindung zu erwarten ist. Eine Überschreitung des Schwellenwerts von 300 mΩ während des Experiments heißt also, dass diese Verbindung in der Realität ebenfalls wahrscheinlich defekt geworden wäre. Wir wollen diese Daten nun folgendermaßen nutzen:\n",
    "\n",
    "### Das Ziel\n",
    "\n",
    "Ihr werdet ein **zweistufiges Modell** entwickeln:\n",
    "\n",
    "1. **Klassifikation**:\n",
    "   Vorhersage, ob eine Steckverbindung **überhaupt** den Schwellenwert von 300 mΩ überschreiten wird, basierend auf rein physikalischen Features.\n",
    "   → Features: Beschichtung, Zwischenschicht, Normalkraft, Frequenz und Hub\n",
    "   → Zielgröße: *Ja (1)* oder *Nein (0)*\n",
    "\n",
    "2. **Regression** (für die vorhergesagten \"Ja\"-Fälle):\n",
    "   Schätzung, **nach wie vielen Belastungszyklen** der Widerstand von 300 mΩ erreicht wird, basierend auf der gemessenen Zyklenanzahl während des Experiments.\n",
    "   → Features: Zyklus_bei_1mOhm, Zyklus_bei_2mOhm, Zyklus_bei_5mOhm, ..., Zyklus_bei_300mOhm\n",
    "   → Zielgröße: *Zyklenanzahl*\n",
    "\n",
    "Diese Kombination ermöglicht es, zunächst risikobehaftete Steckverbindungen zu identifizieren und anschließend genauer abzuschätzen, wann voraussichtlich ein kritischer Zustand eintritt, um gezielt Wartungsarbeiten einzuleiten.\n",
    "\n",
    "### Der Datensatz\n",
    "\n",
    "Die Datei `Schwellenwerte-Table 1.csv` enthält pro Zeile eine Steckverbindung mit:\n",
    "\n",
    "* einem **Dateinamen** (`Datei`)\n",
    "* Angaben zu **Material und Prozessparametern**\n",
    "* Zyklenzahlen, bei denen bestimmte **Ohm-Schwellen überschritten wurden** (z. B. `Zyklus_bei_300_mOhm`)\n",
    "\n",
    "  * Ein Wert von **-1** bedeutet: Schwelle wurde **nicht** überschritten.\n",
    "\n",
    "## Aufgabe 1: Überblick verschaffen\n",
    "\n",
    "Lade die Datei `Schwellenwerte-Table 1.csv` mit `pandas` ein und speichere die Daten in einem DataFrame namens `df`. Verschaffe dir einen Überblick:\n",
    "\n",
    "* Gib die Form des DataFrames mit `.shape` aus\n",
    "* Zeige die ersten 5 Zeilen mit `.head()`\n",
    "* Liste die Spaltennamen auf\n",
    "* Gib eine Übersicht der statistischen Kenngrößen aus (max, min, std, mean, ...)"
   ]
  },
  {
   "cell_type": "code",
   "execution_count": null,
   "id": "8992733a",
   "metadata": {},
   "outputs": [],
   "source": [
    "# Zu Beginn einmalig ausführen für Datenzugriff\n",
    "!git clone https://github.com/MichaelBlauth/MachineLearningforEngineers.git\n",
    "%cd MachineLearningforEngineers/Notebooks/"
   ]
  },
  {
   "cell_type": "code",
   "execution_count": 1,
   "id": "0feb6839",
   "metadata": {},
   "outputs": [],
   "source": [
    "# Hier eure Lösung\n"
   ]
  },
  {
   "cell_type": "markdown",
   "id": "5fc1e909",
   "metadata": {},
   "source": [
    "## Aufgabe 2: Erste Visualisierungen – Muster in den Daten erkennen\n",
    "\n",
    "Ein gutes Machine-Learning-Modell beginnt mit einem tiefen Verständnis für die Daten. In dieser Aufgabe wirst du verschiedene Visualisierungen erstellen, um ein Gefühl für die Verteilung, Streuung und Struktur der wichtigsten Merkmale im Datensatz zu bekommen.\n",
    "\n",
    "### Hinweise\n",
    "\n",
    "* Nutze `matplotlib` oder `seaborn`.\n",
    "* Alle Plots sollten **sinnvoll beschriftet** sein (Achsen, Titel).\n",
    "* Du musst an dieser Stelle **noch keine neuen Spalten erstellen**, sondern nur die bestehenden visualisieren.\n",
    "* Versuche, alle Plots übersichtlich und interpretierbar zu gestalten.\n",
    "\n",
    "### 2.1: Wie viele Steckverbindungen erreichen die einzelnen Schwellenwerte?\n",
    "\n",
    "Untersuche für jede Widerstandsschwelle, **wie viele Steckverbindungen diesen Wert im Experiment erreicht haben**.\n",
    "\n",
    "*Hinweis:* Die Spalten `Zyklus_bei_1_mOhm`, `Zyklus_bei_20_mOhm`, ..., `Zyklus_bei_300_mOhm` geben an, nach wie vielen Zyklen der jeweilige Schwellenwert überschritten wurde. Ein Wert von `-1` bedeutet: **nicht erreicht**.\n",
    "\n",
    "**Plot:** Erstelle dann ein **Balkendiagramm**, das die Anzahl der Steckverbindungen zeigt, die den Schwellenwert erreicht haben.\n",
    "* Zähle dafür für jede dieser Spalten, wie viele Steckverbindungen einen gültigen Zyklenwert (≠ –1) enthalten.\n",
    "* Stelle diese Werte als Balkendiagramm dar.\n",
    "\n",
    "> Ziel: Ein erster Eindruck zur Verteilung der erreichten Schwellwerte und über das Verhältnis von „defekt“ (300 mOhm erreicht) zu „nicht defekt“.\n"
   ]
  },
  {
   "cell_type": "code",
   "execution_count": 2,
   "id": "cf6dc732",
   "metadata": {},
   "outputs": [],
   "source": [
    "# Hier eure Lösung"
   ]
  },
  {
   "cell_type": "markdown",
   "id": "4be705a1",
   "metadata": {},
   "source": [
    "### 2.2. Verteilung der numerischen physikalischen Merkmale untersuchen\n",
    "\n",
    "   Analysiere die Verteilung der zentralen numerischen Eingangsgrößen:\n",
    "\n",
    "   * `Normalkraft`\n",
    "   * `Frequenz`\n",
    "   * `Bewegungshub`\n",
    "\n",
    "   **Plot:** Erstelle für jede dieser Spalten ein **Histogramm**.\n",
    "\n",
    "   > Ziel: Gibt es auffällige Ausreißer? Gibt es dominante Wertebereiche? Welche Kombinationen der Features sind am wahrscheinlichsten?"
   ]
  },
  {
   "cell_type": "code",
   "execution_count": 3,
   "id": "ad12f826",
   "metadata": {},
   "outputs": [],
   "source": [
    "# Hier eure Lösung"
   ]
  },
  {
   "cell_type": "markdown",
   "id": "6bc39cea",
   "metadata": {},
   "source": [
    "### 2.3. Zyklenanzahlen beim Überschreiten der Schwellenwerte untersuchen\n",
    "\n",
    "   Die Spalten `Zyklus_bei_1_mOhm`, `Zyklus_bei_20_mOhm`, ..., `Zyklus_bei_300_mOhm` enthalten die Zyklenzahlen, bei denen bestimmte Schwellenwerte überschritten wurden oder `-1`, wenn das nie passiert ist.\n",
    "\n",
    "   **Schritte:**\n",
    "   * Erstelle eine Kopie deines DataFrames namens `df_visual`.\n",
    "   * Ersetze in der Kopie alle `-1`-Werte durch `np.nan`, damit matplotlib/seaborn sie als „fehlend“ behandelt.\n",
    "   * Erstelle für die obigen Spalten einen **horizontalen Boxplot**, um zu analysieren:\n",
    "\n",
    "     * Nach wie vielen Zyklen werden die Schwellen erreicht?\n",
    "\n",
    "     * Wie groß ist die Streuung?\n",
    "\n",
    "   > Ziel: Ein Gespür für die Streuung und die Zeitpunkte des Ausfalls über verschiedene Widerstandsschwellen hinweg bekommen."
   ]
  },
  {
   "cell_type": "code",
   "execution_count": 4,
   "id": "a9787c9f",
   "metadata": {},
   "outputs": [],
   "source": [
    "# Hier eure Lösung\n"
   ]
  },
  {
   "cell_type": "markdown",
   "id": "a121432a",
   "metadata": {},
   "source": [
    "## Aufgabe 3: Preprocessing\n",
    "In dieser Aufgabe soll der Datensatz sowohl für die Klassifikation als auch für die Regression vorbereitet werden. Ihr werdet entscheiden, wie mit fehlenden Werten umzugehen ist, Zielvariablen erstellen, standardisieren, one-hot-encoden und einen Train-Test-Split erstellen.\n",
    "\n",
    "\n",
    "### 3.1. Fehlende Werte\n",
    "* Identifiziert alle Spalten in eurem originalen DataFrame `df`, die fehlende Werte beinhalten. Was sollte mit diesen Datenpunkten geschehen? Entscheidet euch, ob ihr fehlende Werte ersetzt oder Zeilen mit fehlenden Werten ausschließt."
   ]
  },
  {
   "cell_type": "code",
   "execution_count": 5,
   "id": "a1266d97",
   "metadata": {},
   "outputs": [],
   "source": [
    "# Hier eure Lösung"
   ]
  },
  {
   "cell_type": "markdown",
   "id": "8d29fb2a",
   "metadata": {},
   "source": [
    "### 3.2. Zielvariablen erstellen\n",
    "\n",
    "* Für die **Klassifikation** benötigen wir eine Zielspalte, die angibt, _ob_ die 300 mOhm überschritten wurden oder nicht. Erstelle eine Spalte namens `target`, die wie folgt definiert ist:\n",
    "    * **1**, wenn `Zyklus_300_mOhm` einen Wert größer als 0 enthält\n",
    "    * **0**, wenn der Wert -1 ist\n",
    "* Die Klassifikationszielvariable ist erstellt. Für die **Regression** ist die Zielvariable die _Zyklenanzahl_, bei der die 300 mOhm-Schwelle überschritten wird. Um später die Verarbeitung der Spalte `Zyklus_bei_300_mOhm` zu erleichtern, ersetzt alle Einträge `-1` durch `np.nan`."
   ]
  },
  {
   "cell_type": "code",
   "execution_count": 6,
   "id": "d6a577c0",
   "metadata": {},
   "outputs": [],
   "source": [
    "# Hier eure Lösung"
   ]
  },
  {
   "cell_type": "markdown",
   "id": "0392d27d",
   "metadata": {},
   "source": [
    "### 3.3. Überflüssige Werte?\n",
    "* Entscheidet euch, ob die Spalte `Datei` für das Training der zwei Modelle relevant ist, oder ob sie ignoriert und gedroppt werden sollte.\n",
    "* Entscheidet euch, ob die Spalten `Zyklus_bei_1_mOhm` bis `Zyklus_bei_100_mOhm` für das Training der zwei Modelle relevant sind, oder ob sie ignoriert und gedroppt werden sollten.\n",
    "* Begründet eure Entscheidungen und setzt sie ggf. um."
   ]
  },
  {
   "cell_type": "code",
   "execution_count": 7,
   "id": "46aef3c6",
   "metadata": {},
   "outputs": [],
   "source": [
    "# Hier eure Lösung"
   ]
  },
  {
   "cell_type": "markdown",
   "id": "1c7e76e3",
   "metadata": {},
   "source": [
    "### 3.4. One-Hot-Encoding und Standardisierung\n",
    "Bereite den Datensatz für das Training der Modelle vor:\n",
    "\n",
    "1. Erstelle einen DataFrame `X`, der nur die numerischen und kategorischen Features enthält.\n",
    "2. Wandle **kategorische Variablen** in numerische mit One-Hot-Encoding um. Vermeide Multikollinearität.\n",
    "3. Standardisiere alle **numerischen Features**, z. B. mit `StandardScaler` von scikit-learn.\n",
    "4. Speichere die verarbeiteten Features in einem neuen DataFrame `X_processed` mit den gleichen Spaltennamen und Indizes wie vorher."
   ]
  },
  {
   "cell_type": "code",
   "execution_count": 8,
   "id": "c21b737c",
   "metadata": {},
   "outputs": [],
   "source": [
    "# Hier eure Lösung"
   ]
  },
  {
   "cell_type": "markdown",
   "id": "4c8269e3",
   "metadata": {},
   "source": [
    "### 3.5. Daten in Trainings- und Testmenge aufteilen\n",
    "\n",
    "Teile die Features und Labels in Trainings- und Testdaten auf. Erstelle dafür einen DataFrame `y`, der nur die Zielspalten enthält und benutze `train-test-split` aus sklearn.\n",
    "\n",
    "Anforderungen:\n",
    "* 80 % Training, 20 % Test\n",
    "* Speichere die Arrays als:\n",
    "  - `X_train`, `X_test`\n",
    "  - `y_train`, `y_test`\n",
    "* Setze `random_state=38` für Reproduzierbarkeit"
   ]
  },
  {
   "cell_type": "code",
   "execution_count": 9,
   "id": "78cdf6eb",
   "metadata": {},
   "outputs": [],
   "source": [
    "# Hier eure Lösung"
   ]
  },
  {
   "cell_type": "code",
   "execution_count": 10,
   "id": "87c62a92",
   "metadata": {},
   "outputs": [
    {
     "data": {
      "text/plain": [
       "'\\ncheck_preprocessing_pipeline(\\n    df=df,\\n    X_processed=X_processed,\\n    X_train=X_train,\\n    X_test=X_test,\\n    y_train=y_train,\\n    y_test=y_test\\n)\\n'"
      ]
     },
     "execution_count": 10,
     "metadata": {},
     "output_type": "execute_result"
    }
   ],
   "source": [
    "# Überprüft hier euer Preprocessing\n",
    "from scripts.checker import check_preprocessing_pipeline\n",
    "\n",
    "'''\n",
    "check_preprocessing_pipeline(\n",
    "    df=df,\n",
    "    X_processed=X_processed,\n",
    "    X_train=X_train,\n",
    "    X_test=X_test,\n",
    "    y_train=y_train,\n",
    "    y_test=y_test\n",
    ")\n",
    "'''"
   ]
  },
  {
   "cell_type": "markdown",
   "id": "52b13d7c",
   "metadata": {},
   "source": [
    "## Aufgabe 4: Logistisches Regressionsmodell trainieren\n",
    "\n",
    "Trainiere ein logistisches Regressionsmodell auf den Trainingsdaten.\n",
    "\n",
    "Anforderungen:\n",
    "* Verwende `LogisticRegression` aus `sklearn.linear_model`\n",
    "* Speichere das Modell in einer Variable `model`\n",
    "* Trainiere das Modell mit den Features und der Klassifikationszielvariable."
   ]
  },
  {
   "cell_type": "code",
   "execution_count": 11,
   "id": "eda2910a",
   "metadata": {},
   "outputs": [],
   "source": [
    "# Hier eure Lösung"
   ]
  },
  {
   "cell_type": "code",
   "execution_count": 12,
   "id": "de25d0d0",
   "metadata": {},
   "outputs": [],
   "source": [
    "# Überprüft hier euer Modelltraining\n",
    "from scripts.checker import check_model_training\n",
    "\n",
    "# check_model_training(model, X_train, y_train_logreg)"
   ]
  },
  {
   "cell_type": "markdown",
   "id": "a23cc602",
   "metadata": {},
   "source": [
    "## Aufgabe 5: Modell evaluieren\n",
    "\n",
    "Bewerte die Qualität deiner Vorhersagen auf dem Testdatensatz.\n",
    "\n",
    "Berechne folgende Metriken mit scikit-learn:\n",
    "\n",
    "- Finaler Log-Loss\n",
    "- Accuracy\n",
    "- Precision\n",
    "- Recall\n",
    "- F1-Score\n",
    "- Confusion Matrix\n",
    "\n",
    "> Hinweis: Verwende `model.predict(X_test)` für die Klassenvorhersage und `model.predict_proba(X_test)[:, 1]` für Wahrscheinlichkeiten.\n",
    "\n",
    "Speichere die Vorhersagen in `y_pred` und die Wahrscheinlichkeiten in `y_prob`."
   ]
  },
  {
   "cell_type": "code",
   "execution_count": 13,
   "id": "b28f53a7",
   "metadata": {},
   "outputs": [],
   "source": [
    "# Hier eure Lösung"
   ]
  },
  {
   "cell_type": "code",
   "execution_count": 14,
   "id": "32b19d77",
   "metadata": {},
   "outputs": [],
   "source": [
    "### Überprüft eure Lösung\n",
    "from scripts.checker import check_metrics\n",
    "\n",
    "# check_metrics(y_true, y_pred, y_prob)"
   ]
  },
  {
   "cell_type": "markdown",
   "id": "e59c0ff6",
   "metadata": {},
   "source": [
    "## Aufgabe 6: Scatterplot der Vorhersagen\n",
    "\n",
    "Visualisiere die Modellvorhersagen mithilfe eines Scatterplots:\n",
    "\n",
    "Verändere schrittweise **ein einzelnes Feature** (z. B. die **Normalkraft**) und beobachte, wie sich die **Vorhersagewahrscheinlichkeit** des Modells ändert – während alle anderen Features konstant gehalten werden.\n",
    "\n",
    "**Schritte**:\n",
    "\n",
    "1. **Wähle ein einzelnes Datenbeispiel** aus dem Testdatensatz, z. B. `X_test.iloc[0]`\n",
    "2. **Wähle ein numerisches Feature**, z. B. `\"Normalkraft\"`\n",
    "3. Erstelle eine Kopie des Datenpunkts und **verändere das gewählte Feature** in kleinen Schritten (z. B. von -2 bis +2 in Standardskalierung).\n",
    "4. Lass für jede Variante des Datenpunkts das Modell eine Vorhersagewahrscheinlichkeit berechnen.\n",
    "5. Erstelle ein **Scatterplot**, der den Featurewert (auf normal skalierten Achsen -> Rücktransformation!) gegen die vorhergesagte Wahrscheinlichkeit zeigt.\n",
    "\n",
    "**Plot**:\n",
    "\n",
    "* x-Achse: Geänderter Wert des gewählten Features (z. B. Normalkraft)\n",
    "* y-Achse: Vorhersagewahrscheinlichkeit für `target = 1`\n",
    "\n",
    "**Interpretation**:\n",
    "\n",
    "Beantworte folgende Fragen:\n",
    "\n",
    "* Wie stark beeinflusst das Feature die Vorhersage?\n",
    "* Welche Feature-Werte führen zu einer besonders hohen bzw. niedrigen Wahrscheinlichkeit?\n",
    "* Wie steil ist der Anstieg? Was sagt das über den Einfluss des Features aus?\n",
    "* Was bedeutet das im Kontext des Problems (z. B. hohe Normalkraft = geringeres Risiko)?"
   ]
  },
  {
   "cell_type": "code",
   "execution_count": 15,
   "id": "c89d8792",
   "metadata": {},
   "outputs": [],
   "source": [
    "# Hier eure Lösung\n"
   ]
  },
  {
   "cell_type": "markdown",
   "id": "e0d61cf6",
   "metadata": {},
   "source": [
    "## Aufgabe 7: Interpretation der Feature-Gewichte\n",
    "\n",
    "Nutze die Koeffizienten des Modells, um zu verstehen, welche Features das Modell beeinflussen.\n",
    "\n",
    "Schritte:\n",
    "1. Erstelle ein DataFrame, das die Features (`X_prepared.columns`) den zugehörigen Koeffizienten (`model.coef_`) gegenüberstellt.\n",
    "2. Sortiere es nach der Stärke des Einflusses (betraglich).\n",
    "3. Stelle die wichtigsten Features in einem Balkendiagramm dar.\n",
    "\n",
    "Beantworte folgende Fragen:\n",
    "\n",
    "1. **Was bedeutet ein hoher positiver Wert eines Gewichts in Bezug auf die Vorhersagewahrscheinlichkeit für einen Defekt?**\n",
    "   → Was sagt z. B. ein hohes Gewicht für das Feature „Bewegungshub“ über dessen Einfluss auf die Wahrscheinlichkeit eines Defekts aus?\n",
    "2. **Was sagt ein negatives Gewicht eines Features über dessen Einfluss aus?**\n",
    "3. **Welche Features haben den größten Einfluss auf die Vorhersageentscheidung des Modells?**\n",
    "   → Schaut euch die Top 3 (nach Betrag des Gewichts) an: Sind das physikalisch plausible Einflussfaktoren?\n",
    "4. **Welche Features erscheinen weniger relevant (nahe bei 0)?**\n",
    "   → Könnte das auf Redundanz oder irrelevante Informationen hindeuten?"
   ]
  },
  {
   "cell_type": "code",
   "execution_count": 16,
   "id": "24a0c730",
   "metadata": {},
   "outputs": [],
   "source": [
    "# Hier eure Lösung\n"
   ]
  },
  {
   "cell_type": "markdown",
   "id": "d8d5a29f",
   "metadata": {},
   "source": [
    "## Aufgabe 8: Lineare Regression\n",
    "Ihr trainiert nun ein **lineares Regressionsmodell** auf den Daten der **defekten Verbindungen**, um vorherzusagen, wann eine Verbindung voraussichtlich versagt. Die Zielvariable ist die Zyklenzahl bei 300 mOhm. Diese Größe an sich ist für echte Anwendungen nicht wirklich aussagekräftig, allerdings lässt sich die Zyklenzahl bei periodischer Belastung mit einer bestimmten Zeit identifizieren, bei der die Verbindung versagt. Sie ist also einfach eine Näherungsvariable, die ein Gefühl für die Zeit bis zum Versagen der Verbindung unter bestimmten Voraussetzungen liefert.\n",
    "\n",
    "* Benutze die bereits gesplitteten Variablen `X_train` `y_train`, `X_test` und `y_test`, und filtere sie so, dass nur Steckverbindungen enthalten sind, die die 300 mΩ-Grenze **erreicht haben**.\n",
    "* Speichere diese DataFrames mit dem Zusatz `_linreg`.\n",
    "* Verwende dieselben Eingabefeatures wie für die Klassifikation.\n",
    "* Die Zielvariable ist jetzt `Zyklus_bei_300_mOhm`."
   ]
  },
  {
   "cell_type": "code",
   "execution_count": 17,
   "id": "c6362ff9",
   "metadata": {},
   "outputs": [],
   "source": [
    "# Hier eure Lösung"
   ]
  },
  {
   "cell_type": "markdown",
   "id": "6c847df6",
   "metadata": {},
   "source": [
    "## Aufgabe 9: Visualisierung der Features vs. Zielvariable\n",
    "\n",
    "Untersuche, wie die einzelnen Eingabefeatures mit der Zielvariable `Zyklus_bei_300_mOhm` zusammenhängen.\n",
    "\n",
    "**Schritte:**\n",
    "1. Erstelle für jedes Feature einen Scatterplot, in dem die Werte des Features auf der x-Achse und die Zielvariable `Zyklus_bei_300_mOhm` auf der y-Achse dargestellt werden.\n",
    "3. Analysiere, ob sich Trends, Zusammenhänge oder Ausreißer erkennen lassen.\n",
    "\n",
    "Gibt es Features, die besonders stark mit der Zielvariable korrelieren? Welche Merkmale zeigen keinen klaren Zusammenhang?"
   ]
  },
  {
   "cell_type": "code",
   "execution_count": 18,
   "id": "3b623007",
   "metadata": {},
   "outputs": [],
   "source": [
    "# Hier eure Lösung"
   ]
  },
  {
   "cell_type": "markdown",
   "id": "4336e0a9",
   "metadata": {},
   "source": [
    "## Aufgabe 9: Regressionsmodell trainieren\n",
    "\n",
    "* Trainiere das Regressionsmodell (`LinearRegression`) auf den vorbereiteten Trainingsdaten.\n",
    "* Ziel: Vorhersage der Zyklenanzahl, bei der die 300 mΩ-Grenze erreicht wird."
   ]
  },
  {
   "cell_type": "code",
   "execution_count": 19,
   "id": "f0a3de50",
   "metadata": {},
   "outputs": [],
   "source": [
    "# Hier eure Lösung"
   ]
  },
  {
   "cell_type": "code",
   "execution_count": 20,
   "id": "86928a48",
   "metadata": {},
   "outputs": [],
   "source": [
    "### Überprüft euer Lineares Modelltraining\n",
    "\n",
    "# check_model_training(reg_model, X_train_linreg, y_train_linreg)"
   ]
  },
  {
   "cell_type": "markdown",
   "id": "d49167ec",
   "metadata": {},
   "source": [
    "## Aufgabe 10: Evaluation\n",
    "\n",
    "Berechne die folgenden Regressionsmetriken:\n",
    "\n",
    "* MAE (Mean Absolute Error)\n",
    "* MSE (Mean Squared Error)\n",
    "* RMSE (Root Mean Squared Error)\n",
    "* R² (Bestimmtheitsmaß)"
   ]
  },
  {
   "cell_type": "code",
   "execution_count": 21,
   "id": "af2371b3",
   "metadata": {},
   "outputs": [],
   "source": [
    "# Hier eure Lösung"
   ]
  },
  {
   "cell_type": "code",
   "execution_count": 22,
   "id": "bcf8f72e",
   "metadata": {},
   "outputs": [],
   "source": [
    "### Überprüft eure Lösung\n",
    "\n",
    "# check_metrics(y_test_linreg, y_pred_linreg)"
   ]
  },
  {
   "cell_type": "markdown",
   "id": "e7bf1633",
   "metadata": {},
   "source": [
    "## Aufgabe 11: Scatterplot der Vorhersagen\n",
    "\n",
    "Vergleiche die Modellvorhersagen mit den tatsächlichen Werten in einem Scatterplot.\n",
    "\n",
    "1. Erstelle einen Scatterplot mit den Testdaten:\n",
    "   * x-Achse: vorhergesagte Werte\n",
    "   * y-Achse: echte Zielwerte\n",
    "   * Farbe (`hue` in seaborn): z. B. `Normalkraft` oder `Frequenz`, um Trends zu erkennen\n",
    "   * Markiere die Idealdiagonale (y = x) zur Orientierung."
   ]
  },
  {
   "cell_type": "code",
   "execution_count": 23,
   "id": "702a19ac",
   "metadata": {},
   "outputs": [],
   "source": [
    "# Hier eure Lösung"
   ]
  },
  {
   "cell_type": "markdown",
   "id": "dd7ab71d",
   "metadata": {},
   "source": [
    "### 12. **Interpretation der Regressionsgewichte**\n",
    "\n",
    "Du hast ein lineares Regressionsmodell trainiert, das vorhersagt, **nach wie vielen Zyklen** die Schwelle von 300 mΩ überschritten wird (nur für Steckverbindungen, die tatsächlich defekt wurden). Visualisiere die Koeffizienten des trainierten Regressionsmodells wie bei der Klassifikation. Also:\n",
    "1. Erstelle ein DataFrame, das die Features (`X_prepared.columns`) den zugehörigen Koeffizienten (`reg_model.coef_`) gegenüberstellt.\n",
    "2. Sortiere es nach der Stärke des Einflusses (betraglich).\n",
    "3. Stelle die wichtigsten Features in einem Balkendiagramm dar.\n",
    "\n",
    "Interpretiere die Modellgewichte. Nutze dabei die folgenden Leitfragen:\n",
    "\n",
    "1. **Allgemeines Verständnis**\n",
    "   a. Was bedeutet ein negativer bzw. ein positiver Koeffizient in diesem Modell? (Hinweis: Nutze die Formel für die Vorhersage bei der linearen Regression).\n",
    "   b. Was sagt z. B. der negative Wert für „Normalkraft“ über die Lebensdauer aus?\n",
    "\n",
    "2. **Vergleich zur Klassifikation**\n",
    "   a. Stimmen die Tendenzen mit den Ergebnissen der Klassifikation überein?\n",
    "   b. Gibt es Features, deren Einfluss im Regressionsmodell **anders** aussieht als im Klassifikationsmodell?\n",
    "   \n",
    "3. **Diskussion der Einschränkungen**\n",
    "   a. Auf welchen Teil der Daten wurde das Regressionsmodell trainiert?\n",
    "   b. Warum kann das zu anderen Schlussfolgerungen führen als bei der Klassifikation?"
   ]
  },
  {
   "cell_type": "code",
   "execution_count": 24,
   "id": "e1d0e9b5",
   "metadata": {},
   "outputs": [],
   "source": [
    "# Hier eure Lösung\n"
   ]
  }
 ],
 "metadata": {
  "kernelspec": {
   "display_name": "scvenv",
   "language": "python",
   "name": "scvenv"
  },
  "language_info": {
   "codemirror_mode": {
    "name": "ipython",
    "version": 3
   },
   "file_extension": ".py",
   "mimetype": "text/x-python",
   "name": "python",
   "nbconvert_exporter": "python",
   "pygments_lexer": "ipython3",
   "version": "3.13.1"
  }
 },
 "nbformat": 4,
 "nbformat_minor": 5
}
